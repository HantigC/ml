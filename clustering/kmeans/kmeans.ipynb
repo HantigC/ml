{
 "cells": [
  {
   "cell_type": "code",
   "execution_count": 67,
   "metadata": {},
   "outputs": [],
   "source": [
    "import numpy as np\n",
    "import pandas as pd\n",
    "import matplotlib.pyplot as plt\n",
    "import seaborn as sns\n",
    "import ipywidgets as widgets\n",
    "from IPython.core.debugger import set_trace\n",
    "from scipy.stats import rankdata\n",
    "import matplotlib.colors as mcolors\n",
    "import itertools as it\n",
    "import functools as ft\n",
    "import dataclasses\n",
    "from typing import NamedTuple"
   ]
  },
  {
   "cell_type": "markdown",
   "metadata": {},
   "source": [
    "# Settings"
   ]
  },
  {
   "cell_type": "code",
   "execution_count": 2,
   "metadata": {},
   "outputs": [],
   "source": [
    "%matplotlib widget"
   ]
  },
  {
   "cell_type": "code",
   "execution_count": 86,
   "metadata": {},
   "outputs": [],
   "source": [
    "sns.set()"
   ]
  },
  {
   "cell_type": "code",
   "execution_count": 3,
   "metadata": {},
   "outputs": [],
   "source": [
    "def step_kmeans(params: np.ndarray, x: np.ndarray):\n",
    "    \"\"\"Make one kmeans step\"\"\"\n",
    "    dist = np.sqrt(np.sum(\n",
    "        (x - params[:, np.newaxis]) ** 2,\n",
    "        axis=-1\n",
    "    ))\n",
    "    indxs = ~(rankdata(dist, axis=0) - 1).astype(np.bool)\n",
    "    return np.apply_along_axis(\n",
    "        lambda i: x[i].mean(0),\n",
    "        1, \n",
    "        indxs\n",
    "    )"
   ]
  },
  {
   "cell_type": "code",
   "execution_count": 4,
   "metadata": {},
   "outputs": [],
   "source": [
    "def kmeans(x, params):\n",
    "    if x.ndim == 1:\n",
    "        x = x[:, np.newaxis]\n",
    "    elif x.ndim != 2:\n",
    "        raise ValueError(f\"x should have 2 dims not {x.ndim}\")\n",
    "    if params.ndim == 1:\n",
    "        params = params[:, np.newaxis]\n",
    "    elif params.ndim != 2:\n",
    "        raise ValueError(f\"x should have 2 dims not {params.ndim}\")\n",
    "        \n",
    "    while True:\n",
    "        yield params\n",
    "        params = step_kmeans(params, x)\n",
    "    "
   ]
  },
  {
   "cell_type": "code",
   "execution_count": 5,
   "metadata": {},
   "outputs": [],
   "source": [
    "def run_until_eps(x, params, epsilon=0.01):\n",
    "    solutions = iter(kmeans(x, params))\n",
    "    params = next(solutions)\n",
    "    error = epsilon + 1\n",
    "    while error > epsilon:\n",
    "        new_params = next(solutions)\n",
    "        error = np.mean(np.sqrt(np.sum(\n",
    "            (params - new_params) ** 2, axis=-1\n",
    "        )))\n",
    "        params = new_params\n",
    "    return params\n",
    "        "
   ]
  },
  {
   "cell_type": "code",
   "execution_count": 6,
   "metadata": {},
   "outputs": [],
   "source": [
    "def snap_until_eps(x, params, epsilon=0.0):\n",
    "    solutions = iter(kmeans(x, params))\n",
    "    yield next(solutions)\n",
    "    error = epsilon + 1\n",
    "    while error > epsilon:\n",
    "        new_params = next(solutions)\n",
    "        yield new_params\n",
    "        error = np.mean(np.sqrt(np.sum(\n",
    "            (params - new_params) ** 2, axis=-1\n",
    "        )))\n",
    "        params = new_params\n",
    "        "
   ]
  },
  {
   "cell_type": "code",
   "execution_count": 7,
   "metadata": {},
   "outputs": [],
   "source": [
    "def mean_distance(x, params):\n",
    "    dist = np.sqrt(np.sum(\n",
    "        (x - params[:, np.newaxis]) ** 2,\n",
    "        axis=-1\n",
    "    ))\n",
    "    return np.mean(np.min(dist, axis=0))"
   ]
  },
  {
   "cell_type": "code",
   "execution_count": 8,
   "metadata": {},
   "outputs": [],
   "source": [
    "def elbow(x, ks, generator=None):\n",
    "    if generator is None:\n",
    "        generator = seedpp_max\n",
    "    for k in ks:\n",
    "        inits = generator(x, k)\n",
    "        params = run_until_eps(x, inits)\n",
    "        yield params, mean_distance(x, params)"
   ]
  },
  {
   "cell_type": "code",
   "execution_count": 80,
   "metadata": {},
   "outputs": [],
   "source": [
    "class Cluster(NamedTuple):\n",
    "    centroid: np.ndarray\n",
    "    points: np.ndarray\n",
    "        \n",
    "        \n",
    "def silhouette_dist(x, clusters):\n",
    "    \n",
    "    def _dist(x, points):\n",
    "        return np.mean((x - points)**2)\n",
    "\n",
    "    def _silhouette(x, st, nd):\n",
    "        st_dist = _dist(x, st)\n",
    "        nd_dist = _dist(x, nd)\n",
    "        return (nd_dist - st_dist) / max(nd_dist, st_dist)\n",
    "    \n",
    "    distance_to_clusters = np.sum(\n",
    "        (x - clusters[:, np.newaxis]) ** 2,  \n",
    "        axis=-1\n",
    "    )\n",
    "    \n",
    "    distance_to_clusters = rankdata(distance_to_clusters, axis=0) - 1\n",
    "    cluster_map = [\n",
    "        Cluster(points=x[distances == 0], centroid=cluster)  \n",
    "        for distances, cluster in zip(distance_to_clusters, clusters)\n",
    "    ]\n",
    "    \n",
    "    st_closest = np.argmin(distance_to_clusters, axis=0)\n",
    "    nd_closest = np.argmin(np.abs(distance_to_clusters - 1), axis=0)\n",
    "    \n",
    "    data = np.vstack([\n",
    "            x.T,\n",
    "            st_closest,\n",
    "            nd_closest,  \n",
    "    ])\n",
    "    \n",
    "    distances = np.apply_along_axis(\n",
    "        lambda x: _silhouette(x[:2], cluster_map[int(x[2])].points, cluster_map[int(x[3])].points),\n",
    "        0,\n",
    "        data,\n",
    "    )\n",
    "    \n",
    "    return np.mean(distances)"
   ]
  },
  {
   "cell_type": "code",
   "execution_count": 81,
   "metadata": {},
   "outputs": [],
   "source": [
    "def iterate_dist(x, ks, generator=None, dist=None):\n",
    "    if generator is None:\n",
    "        generator = seedpp_max\n",
    "    for k in ks:\n",
    "        inits = generator(x, k)\n",
    "        params = run_until_eps(x, inits)\n",
    "        yield params, dist(x, params)"
   ]
  },
  {
   "cell_type": "code",
   "execution_count": 82,
   "metadata": {},
   "outputs": [],
   "source": [
    "elbow = ft.partial(iterate_dist, dist=mean_distance)\n",
    "silhouette = ft.partial(iterate_dist, dist=silhouette_dist)"
   ]
  },
  {
   "cell_type": "code",
   "execution_count": 9,
   "metadata": {},
   "outputs": [],
   "source": [
    "def snd(x): return x[1]\n",
    "def fst(x): return x[0]"
   ]
  },
  {
   "cell_type": "code",
   "execution_count": 10,
   "metadata": {},
   "outputs": [],
   "source": [
    "def seedpp(x, no=3):\n",
    "    seed = x[np.random.choice(len(x))]\n",
    "    seed = seed[np.newaxis]\n",
    "    \n",
    "    i = 1\n",
    "    while i < no:\n",
    "        p = np.min(\n",
    "            np.sum(\n",
    "                ((x - seed[:, np.newaxis])**2), \n",
    "                axis=-1\n",
    "            ),  \n",
    "            axis=0\n",
    "        )\n",
    "        p /= p.sum(axis=-1)\n",
    "        new_loc = x[np.random.choice(np.arange(len(x)), p=p)]\n",
    "        seed = np.r_[seed, new_loc[np.newaxis]]\n",
    "        i += 1\n",
    "    return seed"
   ]
  },
  {
   "cell_type": "code",
   "execution_count": 11,
   "metadata": {},
   "outputs": [],
   "source": [
    "def seedpp_max(x, no=3):\n",
    "    seed = x[np.random.choice(len(x))]\n",
    "    seed = seed[np.newaxis]\n",
    "    \n",
    "    i = 1\n",
    "    while i < no:\n",
    "        p = np.min(np.sum(((x - seed[:, np.newaxis])**2), axis=-1), axis=0).argmax()\n",
    "        new_loc = x[p]\n",
    "        seed = np.r_[seed, new_loc[np.newaxis]]\n",
    "        i += 1\n",
    "    return seed"
   ]
  },
  {
   "cell_type": "code",
   "execution_count": 12,
   "metadata": {},
   "outputs": [],
   "source": [
    "def get_voronoi(x=(-5, 20), y=(-5, 15)):\n",
    "    X = np.linspace(*x, 50)\n",
    "    Y = np.linspace(*y, 50)\n",
    "    X, Y = np.meshgrid(X, Y)\n",
    "    X, Y = X[..., np.newaxis], Y[..., np.newaxis]\n",
    "    return np.r_['-1', X, Y].reshape(-1, 2)"
   ]
  },
  {
   "cell_type": "code",
   "execution_count": 13,
   "metadata": {},
   "outputs": [],
   "source": [
    "def take(i, iterable):\n",
    "    return [item for _, item in zip(range(i), iterable)]"
   ]
  },
  {
   "cell_type": "code",
   "execution_count": 14,
   "metadata": {},
   "outputs": [],
   "source": [
    "class Seq2D:\n",
    "    \"\"\"Plot the evolution of the 2D EM algorithm\"\"\"\n",
    "    \n",
    "    def __init__(self, ax, snaps, x, ba, grid):\n",
    "        self.ax = ax\n",
    "        self.snaps = snaps\n",
    "        self.x = x\n",
    "        self.ba = ba\n",
    "        self.grid = grid\n",
    "            \n",
    "    def plot(self, i):\n",
    "        self.ax.clear()\n",
    "        params = self.snaps[i]\n",
    "        dist = np.sqrt(np.sum((self.x - params[:, np.newaxis]) ** 2, axis=-1))\n",
    "        indxs = compute_indx(self.x, params)\n",
    "        grid_indxs = compute_indx(self.grid, params)\n",
    "        for num, (param, indx, grid_index, bz) in enumerate(zip(params, indxs, grid_indxs, self.ba)):\n",
    "            print(param)\n",
    "            self.ax.scatter(*self.x[indx].T, c=bz, alpha=.4)\n",
    "            self.ax.scatter(*self.grid[grid_index].T, c=bz, s=5, alpha=.4, marker='.')\n",
    "            self.ax.scatter(*param.T, c=bz, s=1000, marker='x', label=f'cluster{num}')\n"
   ]
  },
  {
   "cell_type": "code",
   "execution_count": 15,
   "metadata": {},
   "outputs": [],
   "source": [
    "def compute_indx(x, centroids):\n",
    "    dist = np.sqrt(np.sum((x - centroids[:, np.newaxis]) ** 2, axis=-1))\n",
    "    return ~(rankdata(dist, axis=0) - 1).astype(np.bool)"
   ]
  },
  {
   "cell_type": "markdown",
   "metadata": {},
   "source": [
    "# Data Generation"
   ]
  },
  {
   "cell_type": "code",
   "execution_count": 16,
   "metadata": {},
   "outputs": [],
   "source": [
    "a = np.random.multivariate_normal([10, 10], [[1, 0], [0, 1]], 300)\n",
    "b = np.random.multivariate_normal([5, 0], [[1, 0], [0, 1]], 200)\n",
    "c = np.random.multivariate_normal([5, 10], [[1, 0], [0, 1]], 200)\n",
    "d = np.random.multivariate_normal([10, 0], [[1, 0], [0, 1]], 100)\n",
    "e = np.random.multivariate_normal([15, 0], [[1, 0], [0, 1]], 200)\n",
    "f = np.random.multivariate_normal([15, 10], [[1, 0], [0, 1]], 200)\n",
    "x = np.r_[a, b, c, d, e, f]\n",
    "\n",
    "no_cluster = 6"
   ]
  },
  {
   "cell_type": "markdown",
   "metadata": {},
   "source": [
    "## Without seedpp inits"
   ]
  },
  {
   "cell_type": "code",
   "execution_count": 17,
   "metadata": {
    "scrolled": false
   },
   "outputs": [
    {
     "data": {
      "application/vnd.jupyter.widget-view+json": {
       "model_id": "41844b35563e499c9bb392782e6d434e",
       "version_major": 2,
       "version_minor": 0
      },
      "text/plain": [
       "FigureCanvasNbAgg()"
      ]
     },
     "metadata": {},
     "output_type": "display_data"
    },
    {
     "data": {
      "application/vnd.jupyter.widget-view+json": {
       "model_id": "2b9334a582174c109e7ba039418db269",
       "version_major": 2,
       "version_minor": 0
      },
      "text/plain": [
       "interactive(children=(IntSlider(value=11, description='i', max=22), Output()), _dom_classes=('widget-interact'…"
      ]
     },
     "metadata": {},
     "output_type": "display_data"
    }
   ],
   "source": [
    "no_cluster = 6\n",
    "colors = it.cycle(list(mcolors.BASE_COLORS))\n",
    "cms = take(no_cluster, colors)\n",
    "\n",
    "inits = x[np.random.choice(len(x), no_cluster)]\n",
    "kmeans_snaps = list(snap_until_eps(x, inits))\n",
    "fig, ax = plt.subplots()\n",
    "smth = Seq2D(ax, kmeans_snaps, x, cms, get_voronoi(x=(0, 20)))\n",
    "_ = widgets.interact(smth.plot, i=(0, len(kmeans_snaps) - 1, 1))"
   ]
  },
  {
   "cell_type": "markdown",
   "metadata": {},
   "source": [
    "## With seedpp inits"
   ]
  },
  {
   "cell_type": "code",
   "execution_count": 18,
   "metadata": {},
   "outputs": [
    {
     "data": {
      "application/vnd.jupyter.widget-view+json": {
       "model_id": "65c7509815684eef85644011db7625a1",
       "version_major": 2,
       "version_minor": 0
      },
      "text/plain": [
       "FigureCanvasNbAgg()"
      ]
     },
     "metadata": {},
     "output_type": "display_data"
    },
    {
     "data": {
      "application/vnd.jupyter.widget-view+json": {
       "model_id": "c2345c266571433da6c33795b88ba8be",
       "version_major": 2,
       "version_minor": 0
      },
      "text/plain": [
       "interactive(children=(IntSlider(value=6, description='i', max=13), Output()), _dom_classes=('widget-interact',…"
      ]
     },
     "metadata": {},
     "output_type": "display_data"
    }
   ],
   "source": [
    "colors = it.cycle(list(mcolors.BASE_COLORS))\n",
    "cms = take(no_cluster, colors)\n",
    "\n",
    "inits = seedpp(x, no_cluster)\n",
    "# kmeans_snaps = [params for _, params in zip(range(no + 1), kmeans(x, inits))]\n",
    "kmeans_snaps = list(snap_until_eps(x, inits))\n",
    "fig, ax = plt.subplots()\n",
    "smth = Seq2D(ax, kmeans_snaps, x, cms, get_voronoi(x=(0, 20)))\n",
    "_ = widgets.interact(smth.plot, i=(0, len(kmeans_snaps) - 1, 1))"
   ]
  },
  {
   "cell_type": "markdown",
   "metadata": {},
   "source": [
    "## With seedpp_max inits"
   ]
  },
  {
   "cell_type": "code",
   "execution_count": 19,
   "metadata": {},
   "outputs": [
    {
     "data": {
      "application/vnd.jupyter.widget-view+json": {
       "model_id": "cac5a046069f4bb89b8d4596cf28e30f",
       "version_major": 2,
       "version_minor": 0
      },
      "text/plain": [
       "FigureCanvasNbAgg()"
      ]
     },
     "metadata": {},
     "output_type": "display_data"
    },
    {
     "data": {
      "application/vnd.jupyter.widget-view+json": {
       "model_id": "4402beafdc8c407c808a4eb9a27c9954",
       "version_major": 2,
       "version_minor": 0
      },
      "text/plain": [
       "interactive(children=(IntSlider(value=2, description='i', max=4), Output()), _dom_classes=('widget-interact',)…"
      ]
     },
     "metadata": {},
     "output_type": "display_data"
    }
   ],
   "source": [
    "colors = it.cycle(list(mcolors.BASE_COLORS))\n",
    "cms = take(no_cluster, colors)\n",
    "\n",
    "inits = seedpp_max(x, no_cluster)\n",
    "# kmeans_snaps = [params for _, params in zip(range(no + 1), kmeans(x, inits))]\n",
    "kmeans_snaps = list(snap_until_eps(x, inits))\n",
    "fig, ax = plt.subplots()\n",
    "smth = Seq2D(ax, kmeans_snaps, x, cms, get_voronoi(x=(0, 20)))\n",
    "_ = widgets.interact(smth.plot, i=(0, len(kmeans_snaps) - 1, 1))"
   ]
  },
  {
   "cell_type": "markdown",
   "metadata": {},
   "source": [
    "# Elbow for no of clusters"
   ]
  },
  {
   "cell_type": "code",
   "execution_count": 89,
   "metadata": {},
   "outputs": [
    {
     "data": {
      "application/vnd.jupyter.widget-view+json": {
       "model_id": "e7f03847c0e04a2895c125496810c571",
       "version_major": 2,
       "version_minor": 0
      },
      "text/plain": [
       "FigureCanvasNbAgg()"
      ]
     },
     "metadata": {},
     "output_type": "display_data"
    }
   ],
   "source": [
    "ma = list(elbow(x, list(range(2, 10))))\n",
    "\n",
    "mdist = list(map(snd, ma))\n",
    "\n",
    "plt.figure()\n",
    "plt.plot(list(range(2, 10)), mdist)\n",
    "plt.show()"
   ]
  },
  {
   "cell_type": "markdown",
   "metadata": {},
   "source": [
    "# Silhouette Method"
   ]
  },
  {
   "cell_type": "code",
   "execution_count": 88,
   "metadata": {},
   "outputs": [
    {
     "data": {
      "application/vnd.jupyter.widget-view+json": {
       "model_id": "a3bc9d46ae5345e1b10b658dab1765d1",
       "version_major": 2,
       "version_minor": 0
      },
      "text/plain": [
       "FigureCanvasNbAgg()"
      ]
     },
     "metadata": {},
     "output_type": "display_data"
    }
   ],
   "source": [
    "ma = list(silhouette(x, list(range(2, 10))))\n",
    "\n",
    "mdist = list(map(snd, ma))\n",
    "\n",
    "plt.figure()\n",
    "plt.plot(list(range(2, 10)), mdist)\n",
    "plt.show()"
   ]
  }
 ],
 "metadata": {
  "kernelspec": {
   "display_name": "Python [conda env:dizi] *",
   "language": "python",
   "name": "conda-env-dizi-py"
  },
  "language_info": {
   "codemirror_mode": {
    "name": "ipython",
    "version": 3
   },
   "file_extension": ".py",
   "mimetype": "text/x-python",
   "name": "python",
   "nbconvert_exporter": "python",
   "pygments_lexer": "ipython3",
   "version": "3.7.10"
  }
 },
 "nbformat": 4,
 "nbformat_minor": 4
}
