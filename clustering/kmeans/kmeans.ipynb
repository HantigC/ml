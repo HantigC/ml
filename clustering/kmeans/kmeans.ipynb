{
 "cells": [
  {
   "cell_type": "code",
   "execution_count": 1,
   "metadata": {},
   "outputs": [],
   "source": [
    "import numpy as np\n",
    "import pandas as pd\n",
    "import matplotlib.pyplot as plt\n",
    "import seaborn as sns\n",
    "import ipywidgets as widgets\n",
    "from IPython.core.debugger import set_trace\n",
    "from scipy.stats import rankdata\n",
    "import matplotlib.colors as mcolors\n",
    "import itertools as it"
   ]
  },
  {
   "cell_type": "code",
   "execution_count": 2,
   "metadata": {},
   "outputs": [],
   "source": [
    "%matplotlib widget"
   ]
  },
  {
   "cell_type": "code",
   "execution_count": 4,
   "metadata": {},
   "outputs": [],
   "source": [
    "def step_kmeans(params: np.ndarray, x: np.ndarray):\n",
    "    \"\"\"Make one kmeans step\"\"\"\n",
    "    dist = np.sqrt(np.sum(\n",
    "        (x - params[:, np.newaxis]) ** 2,\n",
    "        axis=-1\n",
    "    ))\n",
    "    indxs = ~(rankdata(dist, axis=0) - 1).astype(np.bool)\n",
    "    return np.apply_along_axis(\n",
    "        lambda i: x[i].mean(0),\n",
    "        1, \n",
    "        indxs\n",
    "    )"
   ]
  },
  {
   "cell_type": "code",
   "execution_count": 3,
   "metadata": {},
   "outputs": [],
   "source": [
    "def kmeans(x, params):\n",
    "    if x.ndim == 1:\n",
    "        x = x[:, np.newaxis]\n",
    "    elif x.ndim != 2:\n",
    "        raise ValueError(f\"x should have 2 dims not {x.ndim}\")\n",
    "    if params.ndim == 1:\n",
    "        params = params[:, np.newaxis]\n",
    "    elif params.ndim != 2:\n",
    "        raise ValueError(f\"x should have 2 dims not {params.ndim}\")\n",
    "        \n",
    "    while True:\n",
    "        yield params\n",
    "        params = step_kmeans(params, x)\n",
    "    "
   ]
  },
  {
   "cell_type": "code",
   "execution_count": 247,
   "metadata": {},
   "outputs": [],
   "source": [
    "def run_until_eps(x, params, epsilon=0.01):\n",
    "    solutions = iter(kmeans(x, params))\n",
    "    params = next(solutions)\n",
    "    error = epsilon + 1\n",
    "    while error > epsilon:\n",
    "        new_params = next(solutions)\n",
    "        error = np.mean(np.sqrt(np.sum(\n",
    "            (params - new_params) ** 2, axis=-1\n",
    "        )))\n",
    "        params = new_params\n",
    "    return params\n",
    "        "
   ]
  },
  {
   "cell_type": "code",
   "execution_count": 169,
   "metadata": {},
   "outputs": [],
   "source": [
    "def snap_until_eps(x, params, epsilon=0.0):\n",
    "    solutions = iter(kmeans(x, params))\n",
    "    yield next(solutions)\n",
    "    error = epsilon + 1\n",
    "    while error > epsilon:\n",
    "        new_params = next(solutions)\n",
    "        yield new_params\n",
    "        error = np.mean(np.sqrt(np.sum(\n",
    "            (params - new_params) ** 2, axis=-1\n",
    "        )))\n",
    "        params = new_params\n",
    "        "
   ]
  },
  {
   "cell_type": "code",
   "execution_count": 243,
   "metadata": {},
   "outputs": [],
   "source": [
    "def mean_distance(x, params):\n",
    "    dist = np.sqrt(np.sum(\n",
    "        (x - params[:, np.newaxis]) ** 2,\n",
    "        axis=-1\n",
    "    ))\n",
    "    return np.mean(np.min(dist, axis=0))"
   ]
  },
  {
   "cell_type": "code",
   "execution_count": 253,
   "metadata": {},
   "outputs": [],
   "source": [
    "def elbow(x, ks, generator=None):\n",
    "    if generator is None:\n",
    "        generator = seedpp_max\n",
    "    for k in ks:\n",
    "        inits = generator(x, k)\n",
    "        params = run_until_eps(x, inits)\n",
    "        yield params, mean_distance(x, params)"
   ]
  },
  {
   "cell_type": "code",
   "execution_count": 292,
   "metadata": {},
   "outputs": [],
   "source": [
    "def snd(x): return x[1]\n",
    "def fst(x): return x[0]"
   ]
  },
  {
   "cell_type": "code",
   "execution_count": 237,
   "metadata": {},
   "outputs": [],
   "source": [
    "def seedpp(x, no=3):\n",
    "    seed = x[np.random.choice(len(x))]\n",
    "    seed = seed[np.newaxis]\n",
    "    \n",
    "    i = 1\n",
    "    while i < no:\n",
    "        p = np.min(\n",
    "            np.sum(\n",
    "                ((x - seed[:, np.newaxis])**2), \n",
    "                axis=-1\n",
    "            ),  \n",
    "            axis=0\n",
    "        )\n",
    "        p /= p.sum(axis=-1)\n",
    "        new_loc = x[np.random.choice(np.arange(len(x)), p=p)]\n",
    "        seed = np.r_[seed, new_loc[np.newaxis]]\n",
    "        i += 1\n",
    "    return seed"
   ]
  },
  {
   "cell_type": "code",
   "execution_count": 201,
   "metadata": {},
   "outputs": [],
   "source": [
    "def seedpp_max(x, no=3):\n",
    "    seed = x[np.random.choice(len(x))]\n",
    "    seed = seed[np.newaxis]\n",
    "    \n",
    "    i = 1\n",
    "    while i < no:\n",
    "        p = np.min(np.sum(((x - seed[:, np.newaxis])**2), axis=-1), axis=0).argmax()\n",
    "        new_loc = x[p]\n",
    "        seed = np.r_[seed, new_loc[np.newaxis]]\n",
    "        i += 1\n",
    "    return seed"
   ]
  },
  {
   "cell_type": "code",
   "execution_count": 144,
   "metadata": {},
   "outputs": [],
   "source": [
    "def get_voronoi(x=(-5, 20), y=(-5, 15)):\n",
    "    X = np.linspace(*x, 50)\n",
    "    Y = np.linspace(*y, 50)\n",
    "    X, Y = np.meshgrid(X, Y)\n",
    "    X, Y = X[..., np.newaxis], Y[..., np.newaxis]\n",
    "    return np.r_['-1', X, Y].reshape(-1, 2)"
   ]
  },
  {
   "cell_type": "code",
   "execution_count": 6,
   "metadata": {},
   "outputs": [],
   "source": [
    "def take(i, iterable):\n",
    "    return [item for _, item in zip(range(i), iterable)]"
   ]
  },
  {
   "cell_type": "code",
   "execution_count": 7,
   "metadata": {},
   "outputs": [],
   "source": [
    "class Seq2D:\n",
    "    \"\"\"Plot the evolution of the 2D EM algorithm\"\"\"\n",
    "    \n",
    "    def __init__(self, ax, snaps, x, ba, grid):\n",
    "        self.ax = ax\n",
    "        self.snaps = snaps\n",
    "        self.x = x\n",
    "        self.ba = ba\n",
    "        self.grid = grid\n",
    "            \n",
    "    def plot(self, i):\n",
    "        self.ax.clear()\n",
    "        params = self.snaps[i]\n",
    "        dist = np.sqrt(np.sum((self.x - params[:, np.newaxis]) ** 2, axis=-1))\n",
    "        indxs = compute_indx(self.x, params)\n",
    "        grid_indxs = compute_indx(self.grid, params)\n",
    "        for num, (param, indx, grid_index, bz) in enumerate(zip(params, indxs, grid_indxs, self.ba)):\n",
    "            print(param)\n",
    "            self.ax.scatter(*self.x[indx].T, c=bz, alpha=.4)\n",
    "            self.ax.scatter(*self.grid[grid_index].T, c=bz, s=5, alpha=.4, marker='.')\n",
    "            self.ax.scatter(*param.T, c=bz, s=1000, marker='x', label=f'cluster{num}')\n"
   ]
  },
  {
   "cell_type": "code",
   "execution_count": 8,
   "metadata": {},
   "outputs": [],
   "source": [
    "def compute_indx(x, centroids):\n",
    "    dist = np.sqrt(np.sum((x - centroids[:, np.newaxis]) ** 2, axis=-1))\n",
    "    return ~(rankdata(dist, axis=0) - 1).astype(np.bool)"
   ]
  },
  {
   "cell_type": "markdown",
   "metadata": {},
   "source": [
    "# Data Generation"
   ]
  },
  {
   "cell_type": "code",
   "execution_count": 164,
   "metadata": {},
   "outputs": [],
   "source": []
  },
  {
   "cell_type": "code",
   "execution_count": 227,
   "metadata": {},
   "outputs": [],
   "source": [
    "a = np.random.multivariate_normal([10, 10], [[1, 0], [0, 1]], 300)\n",
    "b = np.random.multivariate_normal([5, 0], [[1, 0], [0, 1]], 200)\n",
    "c = np.random.multivariate_normal([5, 10], [[1, 0], [0, 1]], 200)\n",
    "d = np.random.multivariate_normal([10, 0], [[1, 0], [0, 1]], 100)\n",
    "e = np.random.multivariate_normal([15, 0], [[1, 0], [0, 1]], 200)\n",
    "f = np.random.multivariate_normal([15, 10], [[1, 0], [0, 1]], 200)\n",
    "x = np.r_[a, b, c, d, e, f]\n",
    "\n",
    "no_cluster = 6"
   ]
  },
  {
   "cell_type": "markdown",
   "metadata": {},
   "source": [
    "## Without seedpp inits"
   ]
  },
  {
   "cell_type": "code",
   "execution_count": 236,
   "metadata": {},
   "outputs": [
    {
     "data": {
      "application/vnd.jupyter.widget-view+json": {
       "model_id": "977ed53d3c9e498da47a515296b60e8d",
       "version_major": 2,
       "version_minor": 0
      },
      "text/plain": [
       "FigureCanvasNbAgg()"
      ]
     },
     "metadata": {},
     "output_type": "display_data"
    },
    {
     "data": {
      "application/vnd.jupyter.widget-view+json": {
       "model_id": "d6f81f0775474b22bd2f05aeb75ae6ff",
       "version_major": 2,
       "version_minor": 0
      },
      "text/plain": [
       "interactive(children=(IntSlider(value=3, description='i', max=7), Output()), _dom_classes=('widget-interact',)…"
      ]
     },
     "metadata": {},
     "output_type": "display_data"
    }
   ],
   "source": [
    "no_cluster = 6\n",
    "colors = it.cycle(list(mcolors.BASE_COLORS))\n",
    "cms = take(no_cluster, colors)\n",
    "\n",
    "inits = x[np.random.choice(len(x), no_cluster)]\n",
    "kmeans_snaps = list(snap_until_eps(x, inits))\n",
    "fig, ax = plt.subplots()\n",
    "smth = Seq2D(ax, kmeans_snaps, x, cms, get_voronoi(x=(0, 20)))\n",
    "_ = widgets.interact(smth.plot, i=(0, len(kmeans_snaps) - 1, 1))"
   ]
  },
  {
   "cell_type": "markdown",
   "metadata": {},
   "source": [
    "## With seedpp inits"
   ]
  },
  {
   "cell_type": "code",
   "execution_count": 231,
   "metadata": {},
   "outputs": [
    {
     "data": {
      "application/vnd.jupyter.widget-view+json": {
       "model_id": "c2a0ec10a34d4112a1236431146bc838",
       "version_major": 2,
       "version_minor": 0
      },
      "text/plain": [
       "FigureCanvasNbAgg()"
      ]
     },
     "metadata": {},
     "output_type": "display_data"
    },
    {
     "data": {
      "application/vnd.jupyter.widget-view+json": {
       "model_id": "6ed9cf8e6c8642ca8da29363c981518b",
       "version_major": 2,
       "version_minor": 0
      },
      "text/plain": [
       "interactive(children=(IntSlider(value=4, description='i', max=8), Output()), _dom_classes=('widget-interact',)…"
      ]
     },
     "metadata": {},
     "output_type": "display_data"
    }
   ],
   "source": [
    "colors = it.cycle(list(mcolors.BASE_COLORS))\n",
    "cms = take(no_cluster, colors)\n",
    "\n",
    "inits = seedpp(x, no_cluster)\n",
    "# kmeans_snaps = [params for _, params in zip(range(no + 1), kmeans(x, inits))]\n",
    "kmeans_snaps = list(snap_until_eps(x, inits))\n",
    "fig, ax = plt.subplots()\n",
    "smth = Seq2D(ax, kmeans_snaps, x, cms, get_voronoi(x=(0, 20)))\n",
    "_ = widgets.interact(smth.plot, i=(0, len(kmeans_snaps) - 1, 1))"
   ]
  },
  {
   "cell_type": "markdown",
   "metadata": {},
   "source": [
    "## With seedpp_max inits"
   ]
  },
  {
   "cell_type": "code",
   "execution_count": 232,
   "metadata": {},
   "outputs": [
    {
     "data": {
      "application/vnd.jupyter.widget-view+json": {
       "model_id": "73d5f04f4687471a985224fb16c6089a",
       "version_major": 2,
       "version_minor": 0
      },
      "text/plain": [
       "FigureCanvasNbAgg()"
      ]
     },
     "metadata": {},
     "output_type": "display_data"
    },
    {
     "data": {
      "application/vnd.jupyter.widget-view+json": {
       "model_id": "b780aa97f7484aac9853d9d449869e6d",
       "version_major": 2,
       "version_minor": 0
      },
      "text/plain": [
       "interactive(children=(IntSlider(value=3, description='i', max=7), Output()), _dom_classes=('widget-interact',)…"
      ]
     },
     "metadata": {},
     "output_type": "display_data"
    }
   ],
   "source": [
    "colors = it.cycle(list(mcolors.BASE_COLORS))\n",
    "cms = take(no_cluster, colors)\n",
    "\n",
    "inits = seedpp_max(x, no_cluster)\n",
    "# kmeans_snaps = [params for _, params in zip(range(no + 1), kmeans(x, inits))]\n",
    "kmeans_snaps = list(snap_until_eps(x, inits))\n",
    "fig, ax = plt.subplots()\n",
    "smth = Seq2D(ax, kmeans_snaps, x, cms, get_voronoi(x=(0, 20)))\n",
    "_ = widgets.interact(smth.plot, i=(0, len(kmeans_snaps) - 1, 1))"
   ]
  },
  {
   "cell_type": "markdown",
   "metadata": {},
   "source": [
    "# Elbow for no of clusters"
   ]
  },
  {
   "cell_type": "code",
   "execution_count": 291,
   "metadata": {},
   "outputs": [
    {
     "data": {
      "application/vnd.jupyter.widget-view+json": {
       "model_id": "3589c9fb0f46440d891818ac0c189ba2",
       "version_major": 2,
       "version_minor": 0
      },
      "text/plain": [
       "FigureCanvasNbAgg()"
      ]
     },
     "metadata": {},
     "output_type": "display_data"
    }
   ],
   "source": [
    "ma = list(elbow(x, list(range(2, 10))))\n",
    "\n",
    "mdist = list(map(snd, ma))\n",
    "\n",
    "plt.figure()\n",
    "plt.plot(list(range(2, 10)), mdist)\n",
    "plt.show()"
   ]
  },
  {
   "cell_type": "code",
   "execution_count": 295,
   "metadata": {},
   "outputs": [
    {
     "data": {
      "text/plain": [
       "(6, 2)"
      ]
     },
     "execution_count": 295,
     "metadata": {},
     "output_type": "execute_result"
    }
   ],
   "source": [
    "params.shape"
   ]
  },
  {
   "cell_type": "code",
   "execution_count": 294,
   "metadata": {},
   "outputs": [
    {
     "data": {
      "text/plain": [
       "(1200, 2)"
      ]
     },
     "execution_count": 294,
     "metadata": {},
     "output_type": "execute_result"
    }
   ],
   "source": [
    "x.shape"
   ]
  },
  {
   "cell_type": "code",
   "execution_count": 303,
   "metadata": {},
   "outputs": [
    {
     "ename": "ValueError",
     "evalue": "could not broadcast input array from shape (103,2) into shape (119,2)",
     "output_type": "error",
     "traceback": [
      "\u001b[0;31m---------------------------------------------------------------------------\u001b[0m",
      "\u001b[0;31mValueError\u001b[0m                                Traceback (most recent call last)",
      "\u001b[0;32m<ipython-input-303-056c8f70201b>\u001b[0m in \u001b[0;36m<module>\u001b[0;34m\u001b[0m\n\u001b[0;32m----> 1\u001b[0;31m \u001b[0mnp\u001b[0m\u001b[0;34m.\u001b[0m\u001b[0mapply_along_axis\u001b[0m\u001b[0;34m(\u001b[0m\u001b[0;32mlambda\u001b[0m \u001b[0mii\u001b[0m\u001b[0;34m:\u001b[0m \u001b[0mx\u001b[0m\u001b[0;34m[\u001b[0m\u001b[0mii\u001b[0m \u001b[0;34m==\u001b[0m\u001b[0;36m0\u001b[0m\u001b[0;34m]\u001b[0m\u001b[0;34m,\u001b[0m \u001b[0;36m1\u001b[0m\u001b[0;34m,\u001b[0m \u001b[0mrankdata\u001b[0m\u001b[0;34m(\u001b[0m\u001b[0mnp\u001b[0m\u001b[0;34m.\u001b[0m\u001b[0msum\u001b[0m\u001b[0;34m(\u001b[0m\u001b[0;34m(\u001b[0m\u001b[0mx\u001b[0m \u001b[0;34m-\u001b[0m \u001b[0mparams\u001b[0m\u001b[0;34m[\u001b[0m\u001b[0;34m:\u001b[0m\u001b[0;34m,\u001b[0m \u001b[0mnp\u001b[0m\u001b[0;34m.\u001b[0m\u001b[0mnewaxis\u001b[0m\u001b[0;34m]\u001b[0m\u001b[0;34m)\u001b[0m \u001b[0;34m**\u001b[0m \u001b[0;36m2\u001b[0m\u001b[0;34m,\u001b[0m \u001b[0maxis\u001b[0m\u001b[0;34m=\u001b[0m\u001b[0;34m-\u001b[0m\u001b[0;36m1\u001b[0m\u001b[0;34m)\u001b[0m\u001b[0;34m,\u001b[0m \u001b[0maxis\u001b[0m\u001b[0;34m=\u001b[0m\u001b[0;36m0\u001b[0m\u001b[0;34m)\u001b[0m \u001b[0;34m-\u001b[0m \u001b[0;36m1\u001b[0m\u001b[0;34m)\u001b[0m\u001b[0;34m\u001b[0m\u001b[0;34m\u001b[0m\u001b[0m\n\u001b[0m",
      "\u001b[0;32m<__array_function__ internals>\u001b[0m in \u001b[0;36mapply_along_axis\u001b[0;34m(*args, **kwargs)\u001b[0m\n",
      "\u001b[0;32m~/anaconda3/envs/dizi/lib/python3.7/site-packages/numpy/lib/shape_base.py\u001b[0m in \u001b[0;36mapply_along_axis\u001b[0;34m(func1d, axis, arr, *args, **kwargs)\u001b[0m\n\u001b[1;32m    400\u001b[0m     \u001b[0mbuff\u001b[0m\u001b[0;34m[\u001b[0m\u001b[0mind0\u001b[0m\u001b[0;34m]\u001b[0m \u001b[0;34m=\u001b[0m \u001b[0mres\u001b[0m\u001b[0;34m\u001b[0m\u001b[0;34m\u001b[0m\u001b[0m\n\u001b[1;32m    401\u001b[0m     \u001b[0;32mfor\u001b[0m \u001b[0mind\u001b[0m \u001b[0;32min\u001b[0m \u001b[0minds\u001b[0m\u001b[0;34m:\u001b[0m\u001b[0;34m\u001b[0m\u001b[0;34m\u001b[0m\u001b[0m\n\u001b[0;32m--> 402\u001b[0;31m         \u001b[0mbuff\u001b[0m\u001b[0;34m[\u001b[0m\u001b[0mind\u001b[0m\u001b[0;34m]\u001b[0m \u001b[0;34m=\u001b[0m \u001b[0masanyarray\u001b[0m\u001b[0;34m(\u001b[0m\u001b[0mfunc1d\u001b[0m\u001b[0;34m(\u001b[0m\u001b[0minarr_view\u001b[0m\u001b[0;34m[\u001b[0m\u001b[0mind\u001b[0m\u001b[0;34m]\u001b[0m\u001b[0;34m,\u001b[0m \u001b[0;34m*\u001b[0m\u001b[0margs\u001b[0m\u001b[0;34m,\u001b[0m \u001b[0;34m**\u001b[0m\u001b[0mkwargs\u001b[0m\u001b[0;34m)\u001b[0m\u001b[0;34m)\u001b[0m\u001b[0;34m\u001b[0m\u001b[0;34m\u001b[0m\u001b[0m\n\u001b[0m\u001b[1;32m    403\u001b[0m \u001b[0;34m\u001b[0m\u001b[0m\n\u001b[1;32m    404\u001b[0m     \u001b[0;32mif\u001b[0m \u001b[0;32mnot\u001b[0m \u001b[0misinstance\u001b[0m\u001b[0;34m(\u001b[0m\u001b[0mres\u001b[0m\u001b[0;34m,\u001b[0m \u001b[0mmatrix\u001b[0m\u001b[0;34m)\u001b[0m\u001b[0;34m:\u001b[0m\u001b[0;34m\u001b[0m\u001b[0;34m\u001b[0m\u001b[0m\n",
      "\u001b[0;31mValueError\u001b[0m: could not broadcast input array from shape (103,2) into shape (119,2)"
     ]
    }
   ],
   "source": [
    "np.apply_along_axis(lambda ii: x[ii ==0], 1, rankdata(np.sum((x - params[:, np.newaxis]) ** 2, axis=-1), axis=0) - 1)"
   ]
  },
  {
   "cell_type": "code",
   "execution_count": 305,
   "metadata": {},
   "outputs": [],
   "source": [
    "data = rankdata(np.sum((x - params[:, np.newaxis]) ** 2, axis=-1), axis=0)"
   ]
  },
  {
   "cell_type": "code",
   "execution_count": 316,
   "metadata": {},
   "outputs": [],
   "source": [
    "clusters = [(p, x[d == 1]) for p, d in zip(params, data)]"
   ]
  },
  {
   "cell_type": "code",
   "execution_count": 320,
   "metadata": {},
   "outputs": [],
   "source": [
    "cross = np.array(list(map(fst, clusters)))"
   ]
  },
  {
   "cell_type": "code",
   "execution_count": 332,
   "metadata": {},
   "outputs": [
    {
     "data": {
      "text/plain": [
       "(array([1]),)"
      ]
     },
     "execution_count": 332,
     "metadata": {},
     "output_type": "execute_result"
    }
   ],
   "source": [
    "np.where(np.array([1,2,3]) == 2)"
   ]
  },
  {
   "cell_type": "code",
   "execution_count": 331,
   "metadata": {},
   "outputs": [
    {
     "data": {
      "text/plain": [
       "array([[1., 6., 5., 2., 3., 4.],\n",
       "       [6., 1., 2., 4., 5., 3.],\n",
       "       [5., 2., 1., 3., 6., 4.],\n",
       "       [2., 6., 4., 1., 5., 3.],\n",
       "       [2., 5., 6., 4., 1., 3.],\n",
       "       [5., 4., 6., 2., 3., 1.]])"
      ]
     },
     "execution_count": 331,
     "metadata": {},
     "output_type": "execute_result"
    }
   ],
   "source": [
    "rankdata(np.sum((cross[:, np.newaxis] - cross) ** 2, axis=-1), axis=1)"
   ]
  },
  {
   "cell_type": "code",
   "execution_count": 312,
   "metadata": {},
   "outputs": [
    {
     "data": {
      "text/plain": [
       "array([-1.01371786, -0.67854376, -0.58195245, -0.28579699, -0.04254842,\n",
       "       -0.03883587, -0.07426073])"
      ]
     },
     "execution_count": 312,
     "metadata": {},
     "output_type": "execute_result"
    }
   ],
   "source": [
    "np.diff(np.array(mdist))"
   ]
  },
  {
   "cell_type": "code",
   "execution_count": 312,
   "metadata": {},
   "outputs": [
    {
     "data": {
      "text/plain": [
       "array([-1.01371786, -0.67854376, -0.58195245, -0.28579699, -0.04254842,\n",
       "       -0.03883587, -0.07426073])"
      ]
     },
     "execution_count": 312,
     "metadata": {},
     "output_type": "execute_result"
    }
   ],
   "source": [
    "np.diff(np.array(mdist))"
   ]
  },
  {
   "cell_type": "code",
   "execution_count": 308,
   "metadata": {},
   "outputs": [],
   "source": [
    "mask_st = data[0] == 0\n",
    "mask_nd = data[0] == 1"
   ]
  },
  {
   "cell_type": "code",
   "execution_count": null,
   "metadata": {},
   "outputs": [],
   "source": []
  },
  {
   "cell_type": "code",
   "execution_count": 307,
   "metadata": {},
   "outputs": [
    {
     "data": {
      "text/plain": [
       "array([False, False, False, ..., False, False, False])"
      ]
     },
     "execution_count": 307,
     "metadata": {},
     "output_type": "execute_result"
    }
   ],
   "source": [
    "(data[0] == 0) & (data[0] == 1)"
   ]
  },
  {
   "cell_type": "code",
   "execution_count": null,
   "metadata": {},
   "outputs": [],
   "source": [
    "def get_clusters(x, params):\n",
    "    "
   ]
  }
 ],
 "metadata": {
  "kernelspec": {
   "display_name": "Python [conda env:dizi] *",
   "language": "python",
   "name": "conda-env-dizi-py"
  },
  "language_info": {
   "codemirror_mode": {
    "name": "ipython",
    "version": 3
   },
   "file_extension": ".py",
   "mimetype": "text/x-python",
   "name": "python",
   "nbconvert_exporter": "python",
   "pygments_lexer": "ipython3",
   "version": "3.7.10"
  }
 },
 "nbformat": 4,
 "nbformat_minor": 4
}
