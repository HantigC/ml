{
 "cells": [
  {
   "cell_type": "markdown",
   "metadata": {},
   "source": [
    "# Introduction\n",
    "\n",
    "The *EM* algorithm consists of two phases: estimation and maximization, *_EM_* for short. \n",
    "1. The first phase consist of estimating some latent variables associated with each point given the unknown paramters: mean and covariance.\n",
    "2. Having the estimation of the hidden variables (aka latent variables), the second step consists of recomputing the unknown parameters (mean and covariance)\n",
    "\n",
    "Executing this stepts multiple times, the results will yield some local (it can be global) maxima set of parameters. \n",
    "\n",
    "Besides the data, the algorithm needs an intialization point: It can be the initial location and shape of the distribution - most of the time it's random, *but the number of clusters/components should be specified*"
   ]
  },
  {
   "cell_type": "code",
   "execution_count": 21,
   "metadata": {},
   "outputs": [],
   "source": [
    "import numpy as np\n",
    "import pandas as pd\n",
    "import matplotlib.pyplot as plt\n",
    "import matplotlib as mplib\n",
    "import seaborn as sns\n",
    "import scipy.stats as stats\n",
    "from matplotlib import rc\n",
    "from matplotlib.animation import FuncAnimation\n",
    "from IPython.display import HTML\n",
    "import ipywidgets as widgets\n",
    "import itertools as it\n",
    "from IPython.core.debugger import set_trace\n",
    "from matplotlib.colors import LogNorm\n",
    "import functools as fp"
   ]
  },
  {
   "cell_type": "code",
   "execution_count": 22,
   "metadata": {},
   "outputs": [],
   "source": [
    "%matplotlib widget"
   ]
  },
  {
   "cell_type": "markdown",
   "metadata": {},
   "source": [
    "# Setting"
   ]
  },
  {
   "cell_type": "code",
   "execution_count": 23,
   "metadata": {},
   "outputs": [],
   "source": [
    "sns.set()"
   ]
  },
  {
   "cell_type": "markdown",
   "metadata": {},
   "source": [
    "# Utils"
   ]
  },
  {
   "cell_type": "markdown",
   "metadata": {},
   "source": [
    "## 1D algorithm"
   ]
  },
  {
   "cell_type": "code",
   "execution_count": 87,
   "metadata": {},
   "outputs": [],
   "source": [
    "def em(inits, x, priors=None):\n",
    "    if priors is None:\n",
    "        priors = it.cycle([1])\n",
    "    # expectation step\n",
    "    # compute the likelihoods\n",
    "    pdfs = np.r_[[stats.multivariate_normal.pdf(x, mu, std) for (mu, std), prior in zip(inits, priors)]]\n",
    "    # normalize the likelihoods\n",
    "    pdfs /= np.sum(pdfs, axis=0)\n",
    "    # maximization step\n",
    "    # estimate the means and the standard deviation\n",
    "    mus = np.sum(x * pdfs, axis=1) / np.sum(pdfs, axis=1)\n",
    "    stds = np.sqrt(np.sum(((x - mus[:, np.newaxis]) ** 2) * pdfs, axis=1) / np.sum(pdfs, axis=1))\n",
    "    return [(mu, std) for mu, std in zip(mus, stds)]"
   ]
  },
  {
   "cell_type": "markdown",
   "metadata": {},
   "source": [
    "## 2D algorithm. maybe nD - haven't tested it :("
   ]
  },
  {
   "cell_type": "code",
   "execution_count": 88,
   "metadata": {},
   "outputs": [],
   "source": [
    "def multivariate_em(inits, x, priors=None):\n",
    "    # expectation step\n",
    "    # computing the numerators\n",
    "    pdfs = np.r_[[stats.multivariate_normal.pdf(x, mu, std) for mu, std in inits]]\n",
    "    # normalizing the likelihoods\n",
    "    pdfs /= (pdfs.sum(0) + np.finfo(float).eps)\n",
    "    # maximization step\n",
    "    # estimating the means\n",
    "    mus = np.sum(pdfs[..., np.newaxis] * x, axis=1) / np.sum(pdfs, axis=1, keepdims=True)\n",
    "    def comp_cov(x, mu, pdf):\n",
    "        part = x - mu\n",
    "        return np.dot(part.T * pdf, part) / pdf.sum()\n",
    "\n",
    "    # estimatic the covariance matrix\n",
    "    return [(mu, comp_cov(x, mu, pdf)) for mu, pdf in zip(mus, pdfs)]"
   ]
  },
  {
   "cell_type": "markdown",
   "metadata": {},
   "source": [
    "# Helpers"
   ]
  },
  {
   "cell_type": "code",
   "execution_count": 90,
   "metadata": {},
   "outputs": [],
   "source": [
    "def train_em(params, x, priors, em_func):\n",
    "    \"\"\"Lazy training, only when the callera requests it\"\"\"\n",
    "    while True:\n",
    "        new_params = em_func(params, x, priors)\n",
    "        yield new_params\n",
    "        params = new_params\n",
    "        "
   ]
  },
  {
   "cell_type": "code",
   "execution_count": 93,
   "metadata": {},
   "outputs": [],
   "source": [
    "def snap_em(em_fn, x, params, priors, no):\n",
    "    \"\"\"Snaps/Gather all the intermediate params\"\"\"\n",
    "    return [params] + [param for _, param in zip(\n",
    "            range(no), \n",
    "            iter(train_em(params, x, priors, em_fn))\n",
    "        )]"
   ]
  },
  {
   "cell_type": "code",
   "execution_count": 103,
   "metadata": {},
   "outputs": [],
   "source": [
    "class Seq1D:\n",
    "    \"\"\"Plot the evolution of the 1D EM algorithm\"\"\"\n",
    "    \n",
    "    def __init__(self, ax, snaps, space):\n",
    "        self.ax = ax\n",
    "        self.space = space\n",
    "        self.snaps = snaps\n",
    "        self.lines = [\n",
    "            self.ax.plot(self.space, stats.norm.pdf(self.space, mu, std))[0]\n",
    "            for mu, std in self.snaps[0]\n",
    "        ]\n",
    "        \n",
    "            \n",
    "    def plot(self, i):\n",
    "        y_max = -1\n",
    "        for line, (mu, std) in zip(self.lines, self.snaps[i]):\n",
    "            y = stats.norm.pdf(self.space, mu, std)\n",
    "            y_max = max(y.max(), y_max)\n",
    "            line.set_data(self.space, y)\n",
    "        self.ax.set_ylim(-0.002, y_max + 0.002)\n",
    "        \n",
    "        \n"
   ]
  },
  {
   "cell_type": "code",
   "execution_count": 104,
   "metadata": {},
   "outputs": [],
   "source": [
    "class Seq2D:\n",
    "    \"\"\"Plot the evolution of the 2D EM algorithm\"\"\"\n",
    "    \n",
    "    def __init__(self, ax, snaps, X, Y):\n",
    "        self.ax = ax\n",
    "        self.X, self.Y = np.meshgrid(X, Y)\n",
    "        self.X_O_Y = np.array([self.X.ravel(), self.Y.ravel()]).T\n",
    "        self.snaps = snaps\n",
    "        self.contours = []\n",
    "        \n",
    "            \n",
    "    def plot(self, i):\n",
    "        self.clear()\n",
    "        for mu, std in self.snaps[i]:\n",
    "            Z = stats.multivariate_normal.pdf(self.X_O_Y, mu, std)\n",
    "            Z = Z.reshape(self.X.shape)\n",
    "            self.contours.append(\n",
    "                ax.contour(\n",
    "                    self.X, \n",
    "                    self.Y, \n",
    "                    Z, \n",
    "                    norm=LogNorm(vmin=0.01, vmax=1.0), \n",
    "                    levels=np.logspace(-4, 0, 10), \n",
    "                    alpha=0.4\n",
    "                )\n",
    "            )\n",
    "            \n",
    "    def clear(self):\n",
    "        for contour in self.contours:\n",
    "            for coll in contour.collections:\n",
    "                coll.remove()\n",
    "        self.contours.clear()\n",
    "        \n"
   ]
  },
  {
   "cell_type": "code",
   "execution_count": 96,
   "metadata": {},
   "outputs": [],
   "source": [
    "def compute_space1d(x, how_big=200):\n",
    "    m_diff = np.mean(np.abs(np.diff(x)))\n",
    "    return np.linspace(x.min() - m_diff, x.max() + m_diff, how_big)"
   ]
  },
  {
   "cell_type": "code",
   "execution_count": 97,
   "metadata": {},
   "outputs": [],
   "source": [
    "snap_1dem = fp.partial(snap_em, em)\n",
    "snap_ndem = fp.partial(snap_em, multivariate_em)"
   ]
  },
  {
   "cell_type": "markdown",
   "metadata": {},
   "source": [
    "# Example for 1D data"
   ]
  },
  {
   "cell_type": "code",
   "execution_count": 102,
   "metadata": {},
   "outputs": [
    {
     "data": {
      "application/vnd.jupyter.widget-view+json": {
       "model_id": "",
       "version_major": 2,
       "version_minor": 0
      },
      "text/plain": [
       "FigureCanvasNbAgg()"
      ]
     },
     "metadata": {},
     "output_type": "display_data"
    },
    {
     "data": {
      "application/vnd.jupyter.widget-view+json": {
       "model_id": "",
       "version_major": 2,
       "version_minor": 0
      },
      "text/plain": [
       "interactive(children=(IntSlider(value=50, description='i'), Output()), _dom_classes=('widget-interact',))"
      ]
     },
     "metadata": {},
     "output_type": "display_data"
    }
   ],
   "source": [
    "# data sampling\n",
    "no = 100\n",
    "blue = np.random.normal(-50, 5, 500)\n",
    "red = np.random.normal(20, 10, 1000)\n",
    "ne = np.random.normal(100, 5, 400)\n",
    "all_ = np.r_[blue, red, ne]\n",
    "# seting the initial params\n",
    "blue_mean, blue_std, red_mean, red_std, ne_mean, ne_std = -5, 5, 6.5, 5, 20, 6\n",
    "inits_1d = [(blue_mean, blue_std), (red_mean, red_std), (ne_mean, ne_std)]\n",
    "b_p, r_p, n_p = 1 / np.array([len(blue), len(red), len(ne)])\n",
    "\n",
    "# Ploting\n",
    "fig, ax = plt.subplots()\n",
    "ax.scatter(blue, np.zeros_like(blue), marker='x', label='x')\n",
    "ax.scatter(red, np.zeros_like(red), marker='o', label='o')\n",
    "ax.scatter(ne, np.zeros_like(ne), marker='o', label='o')\n",
    "smt = Seq1D(ax, snap_1dem(all_, inits_1d, [b_p, r_p, n_p], no), compute_space1d(all_))\n",
    "_ = widgets.interact(smt.plot, i=(0, no, 1))\n",
    "\n",
    "\n",
    "     "
   ]
  },
  {
   "cell_type": "markdown",
   "metadata": {},
   "source": [
    "# Example for 2D data"
   ]
  },
  {
   "cell_type": "code",
   "execution_count": 105,
   "metadata": {},
   "outputs": [
    {
     "name": "stderr",
     "output_type": "stream",
     "text": [
      "/home/hsc/anaconda3/envs/dizi/lib/python3.7/site-packages/ipykernel_launcher.py:3: RuntimeWarning: covariance is not positive-semidefinite.\n",
      "  This is separate from the ipykernel package so we can avoid doing imports until\n"
     ]
    }
   ],
   "source": [
    "# data sampling\n",
    "a = np.random.multivariate_normal([0,0], [[1, 0], [0, 1]], 10000)\n",
    "b = np.random.multivariate_normal([20,-1], [[-1, 5], [0, 1]], 2000)\n",
    "c = np.random.multivariate_normal([10,0], [[1, 0], [0, 1]], 3000)\n",
    "\n",
    "x = np.r_[a,b,c]\n",
    "\n",
    "# setting the initial params\n",
    "m0, s0 = [-10,0], [[1, 0], [0, 1]]\n",
    "m1, s1 = [10,10], [[1, 0], [0, 1]]\n",
    "m2, s2 = [30,1], [[5, 2], [0, 1]]\n",
    "\n",
    "inits = [(m0, s0), (m1, s1), (m2, s2)]\n",
    "\n",
    "# snapshoting the execution of the algorithm\n",
    "snap_dd = snap_ndem(x, inits, [1/3, 1/3, 1/3], 100)"
   ]
  },
  {
   "cell_type": "code",
   "execution_count": 106,
   "metadata": {},
   "outputs": [
    {
     "data": {
      "application/vnd.jupyter.widget-view+json": {
       "model_id": "e3d188a08ff141c5b8900aa41b9020ee",
       "version_major": 2,
       "version_minor": 0
      },
      "text/plain": [
       "FigureCanvasNbAgg()"
      ]
     },
     "metadata": {},
     "output_type": "display_data"
    },
    {
     "data": {
      "application/vnd.jupyter.widget-view+json": {
       "model_id": "c29a8adf511f42b5baa1daab0ba4f5af",
       "version_major": 2,
       "version_minor": 0
      },
      "text/plain": [
       "interactive(children=(IntSlider(value=12, description='i', max=25), Output()), _dom_classes=('widget-interact'…"
      ]
     },
     "metadata": {},
     "output_type": "display_data"
    }
   ],
   "source": [
    "# Ploting\n",
    "no = 25\n",
    "fig, ax = plt.subplots()\n",
    "for v in [a, b, c]:\n",
    "    ax.scatter(*v.T)\n",
    "smt = Seq2D(\n",
    "    ax, \n",
    "    snap_ndem(\n",
    "        x, \n",
    "        inits, \n",
    "        [1/3, 1/3, 1/3], \n",
    "        no\n",
    "    ), \n",
    "    np.linspace(-10., 30.), \n",
    "    np.linspace(-10., 10.)\n",
    ")\n",
    "_ = widgets.interact(smt.plot, i=(0, no, 1))"
   ]
  }
 ],
 "metadata": {
  "kernelspec": {
   "display_name": "Python [conda env:dizi] *",
   "language": "python",
   "name": "conda-env-dizi-py"
  },
  "language_info": {
   "codemirror_mode": {
    "name": "ipython",
    "version": 3
   },
   "file_extension": ".py",
   "mimetype": "text/x-python",
   "name": "python",
   "nbconvert_exporter": "python",
   "pygments_lexer": "ipython3",
   "version": "3.7.10"
  }
 },
 "nbformat": 4,
 "nbformat_minor": 5
}
